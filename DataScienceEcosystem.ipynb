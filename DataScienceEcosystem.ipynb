{
 "cells": [
  {
   "cell_type": "markdown",
   "id": "f843ad23",
   "metadata": {},
   "source": [
    "# Data Science Tools and Ecosystem"
   ]
  },
  {
   "cell_type": "markdown",
   "id": "93735d1d",
   "metadata": {},
   "source": [
    "In this notebook, Data Science Tools and Ecosystem are summarized."
   ]
  },
  {
   "cell_type": "markdown",
   "id": "45b5dc04",
   "metadata": {},
   "source": [
    "# Objectives:\n",
    "\n",
    "1. How to use notebooks in Jypyter Lab.\n",
    "2. How to work in a notebook session.\n",
    "3. Identify tools in Anaconda Jupyter environments.\n",
    "\n",
    "Unordered List:\n",
    "\n",
    "- Python\n",
    "- R\n",
    "- SQL"
   ]
  },
  {
   "cell_type": "markdown",
   "id": "7e3540e8",
   "metadata": {},
   "source": [
    "Some of the popular languages that Data Scientists use are:\n",
    "\n",
    "ordered list:\n",
    "\n",
    "1. SQL\n",
    "2. R\n",
    "3. Rstudio\n",
    "4. Python"
   ]
  },
  {
   "cell_type": "markdown",
   "id": "7cf35234",
   "metadata": {},
   "source": [
    "Some of the commonly used libraries used by Data Scientists include:\n",
    "    \n",
    "1. Numpy\n",
    "2. matplotlib\n",
    "3. Pandas"
   ]
  },
  {
   "cell_type": "markdown",
   "id": "884fb6ed",
   "metadata": {},
   "source": [
    "Data Science Tools:\n",
    "\n",
    "|Data Science Tools|\n",
    "|:-:|\n",
    "|Jypyter Notebook|\n",
    "|Apache Spark|\n",
    "|R Studio|"
   ]
  },
  {
   "cell_type": "markdown",
   "id": "2aeb4ea0",
   "metadata": {},
   "source": [
    "### Below are a few examples of evaluating arithmetic expressions in Python:"
   ]
  },
  {
   "cell_type": "code",
   "execution_count": 14,
   "id": "40c9ec3b",
   "metadata": {},
   "outputs": [
    {
     "name": "stdout",
     "output_type": "stream",
     "text": [
      "8\n"
     ]
    }
   ],
   "source": [
    "result = 3+5\n",
    "print(result)"
   ]
  },
  {
   "cell_type": "code",
   "execution_count": 15,
   "id": "325be3db",
   "metadata": {},
   "outputs": [
    {
     "name": "stdout",
     "output_type": "stream",
     "text": [
      "80.0\n"
     ]
    }
   ],
   "source": [
    "result = 400/5\n",
    "print(result)"
   ]
  },
  {
   "cell_type": "code",
   "execution_count": 16,
   "id": "e162ab8b",
   "metadata": {},
   "outputs": [
    {
     "name": "stdout",
     "output_type": "stream",
     "text": [
      "17\n"
     ]
    }
   ],
   "source": [
    "# This a simple arithmetic expression to mutiply then add integers\n",
    "\n",
    "result = (3*4)+5\n",
    "print(result)"
   ]
  },
  {
   "cell_type": "code",
   "execution_count": 17,
   "id": "1e8128da",
   "metadata": {},
   "outputs": [
    {
     "name": "stdout",
     "output_type": "stream",
     "text": [
      "3.3333333333333335\n"
     ]
    }
   ],
   "source": [
    "# This will convert 200 minutes to hours by diving by 60:\n",
    "\n",
    "result = 200/60\n",
    "print(result)"
   ]
  },
  {
   "cell_type": "markdown",
   "id": "2125ead8",
   "metadata": {},
   "source": [
    "## Author: Lakshmi Holla\n",
    "\n",
    "Harish"
   ]
  },
  {
   "cell_type": "code",
   "execution_count": null,
   "id": "b484379c",
   "metadata": {},
   "outputs": [],
   "source": []
  }
 ],
 "metadata": {
  "kernelspec": {
   "display_name": "Python 3 (ipykernel)",
   "language": "python",
   "name": "python3"
  },
  "language_info": {
   "codemirror_mode": {
    "name": "ipython",
    "version": 3
   },
   "file_extension": ".py",
   "mimetype": "text/x-python",
   "name": "python",
   "nbconvert_exporter": "python",
   "pygments_lexer": "ipython3",
   "version": "3.11.5"
  }
 },
 "nbformat": 4,
 "nbformat_minor": 5
}
